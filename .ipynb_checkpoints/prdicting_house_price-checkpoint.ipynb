{
 "cells": [
  {
   "cell_type": "code",
   "execution_count": null,
   "id": "6149d5b9-2526-494d-8b36-d4f8c90ea470",
   "metadata": {},
   "outputs": [],
   "source": [
    "import pandas as pd\n",
    "import numpy as np\n",
    "import matplotlib.pyplot as plt\n",
    "import seaborn as sns"
   ]
  },
  {
   "cell_type": "code",
   "execution_count": null,
   "id": "2bc924ba-9add-4f38-993c-b869c82f93a5",
   "metadata": {},
   "outputs": [],
   "source": [
    "df = pd.read_csv('train-Data.csv')"
   ]
  },
  {
   "cell_type": "code",
   "execution_count": null,
   "id": "a6f61e17-8d23-4d3a-9a1e-623dbbf42f99",
   "metadata": {},
   "outputs": [],
   "source": [
    "df.head()"
   ]
  },
  {
   "cell_type": "code",
   "execution_count": null,
   "id": "f96dd544-ca9d-4657-bf8d-5c27c2c4270e",
   "metadata": {},
   "outputs": [],
   "source": [
    "df.isnull().sum()"
   ]
  },
  {
   "cell_type": "code",
   "execution_count": null,
   "id": "bd3e0822-d5c6-47b7-adc3-4a5b143ef7f5",
   "metadata": {},
   "outputs": [],
   "source": [
    "ppt = sns.pairplot(df)"
   ]
  },
  {
   "cell_type": "code",
   "execution_count": null,
   "id": "e3e635b6-a648-4219-9a7c-867c2e3447d4",
   "metadata": {},
   "outputs": [],
   "source": [
    "print(ppt)"
   ]
  },
  {
   "cell_type": "code",
   "execution_count": null,
   "id": "ef0e80b7-7265-468c-b40d-a5dc6c219de3",
   "metadata": {},
   "outputs": [],
   "source": [
    "print(::)"
   ]
  },
  {
   "cell_type": "code",
   "execution_count": null,
   "id": "3d166dff-37c0-47a2-8135-45fc6431fb9e",
   "metadata": {},
   "outputs": [],
   "source": []
  }
 ],
 "metadata": {
  "kernelspec": {
   "display_name": "Python 3 (ipykernel)",
   "language": "python",
   "name": "python3"
  },
  "language_info": {
   "codemirror_mode": {
    "name": "ipython",
    "version": 3
   },
   "file_extension": ".py",
   "mimetype": "text/x-python",
   "name": "python",
   "nbconvert_exporter": "python",
   "pygments_lexer": "ipython3",
   "version": "3.10.6"
  }
 },
 "nbformat": 4,
 "nbformat_minor": 5
}
